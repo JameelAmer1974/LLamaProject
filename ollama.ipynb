{
 "cells": [
  {
   "cell_type": "code",
   "id": "initial_id",
   "metadata": {
    "collapsed": true,
    "ExecuteTime": {
     "end_time": "2025-06-09T05:17:26.589741Z",
     "start_time": "2025-06-09T05:17:20.266345Z"
    }
   },
   "source": [
    "import psycopg2\n",
    "import ollama\n",
    "DB_NAME = \"SCSDB\"\n",
    "DB_USER = \"postgres\"\n",
    "DB_PASSWORD = \"SmartSoft@2014\"\n",
    "DB_HOST = \"localhost\"  # Change if hosted remotely\n",
    "DB_PORT = \"5432\"       # Default PostgreSQL port\n",
    "import os\n",
    "# Connect to your Postgres DB\n",
    "conn = psycopg2.connect(\n",
    "    dbname=DB_NAME,\n",
    "    user=DB_USER,\n",
    "    password=DB_PASSWORD,\n",
    "    host=DB_HOST,\n",
    "    port=DB_PORT\n",
    ")\n",
    "\n",
    "cur = conn.cursor()\n",
    "\n",
    "# Fetch some data\n",
    "cur.execute(\"SELECT id, text FROM documents_old where id=8675 LIMIT 5;\")\n",
    "rows = cur.fetchall()\n",
    "\n",
    "# Format the data into a prompt\n",
    "content = \"\\n\".join([f\"رقم المقال : {id}, النص: {text}\" for id, text in rows])\n",
    "prompt = (\n",
    "   \"أجب فقط باللغة العربية، ولا تستخدم أي لغة أخرى. \"\n",
    "    \"استخراج اهم النقاط من  المقالة التالية:\\n\\n\"\n",
    "    f\"{content}\\n\\n\"\n",
    "    \"الرجاء استخراج اهم النقاط من النص.\"\n",
    ")\n",
    "\n",
    "# Query LLaMA\n",
    "response = ollama.chat(model='llama3', messages=[\n",
    "    {\"role\": \"system\", \"content\": \"أنت مساعد ذكي يجيب فقط باللغة العربية، لا تستخدم الإنجليزية أبداً.\"},\n",
    "    {\"role\": \"user\", \"content\": prompt}\n",
    "])\n",
    "\n",
    "print(\"LLaMA's response:\\n\", response['message']['content'])\n"
   ],
   "outputs": [
    {
     "name": "stdout",
     "output_type": "stream",
     "text": [
      "LLaMA's response:\n",
      "  هنا أهم النقاط من النص:\n",
      "\n",
      "1. وقعت مواجهات بين الجيش الإسرائيلي قرب نابلس خلال احتجاجات فلسطينية على المستوطنات.\n",
      "2. قتل محمد، صبي فلسطيني، بعد أن شوهد أياً في حفلة عرس مع أقرانه.\n",
      "3. أصيب محمد بالرصاص الحي في الشريان الرئيسي في الفخذ.\n",
      "4. عدد الفلسطينيين الذين قتلوا في الأيام الأربعة الماضية يرتفع الآن إلى ثلاثة شبان.\n",
      "5. إسرائيل أقامت جدارا على الأراضي الفلسطينية، CLAIMING أن هدفه منع دخول المسلحين إلى إسرائيل.\n",
      "6. الفلسطينيون يقولون إن الهدف من الجدار هو الاستيلاء على مزيد من أراضيهم.\n"
     ]
    }
   ],
   "execution_count": 2
  },
  {
   "metadata": {
    "ExecuteTime": {
     "end_time": "2025-06-09T07:17:32.518327Z",
     "start_time": "2025-06-09T07:17:24.589966Z"
    }
   },
   "cell_type": "code",
   "source": [
    "prompt = (\n",
    "    \"اكتب كتاب الرد للطلب التالي\"\n",
    "  \"السادة إادارة نظم المعلومات المحترمين \"\n",
    "    \" تحية طيبة وبعد ...\"\n",
    "    \" تهديكم ادارة الموارد البشرية اطيب الامنيات ونطلبكم منكم الإعداد لدورة ترريبية الاسبوع القادم على نطام المراسلات\"\n",
    "\"شاكرين لكم\"\n",
    ")\n",
    "\n",
    "# Query LLaMA\n",
    "response = ollama.chat(model='llama3', messages=[\n",
    "    {\"role\": \"system\", \"content\": \"أنت مساعد ذكي يجيب فقط باللغة العربية، لا تستخدم الإنجليزية أبداً.\"},\n",
    "    {\"role\": \"user\", \"content\": prompt}\n",
    "])\n",
    "print(\"LLaMA's response:\\n\", response['message']['content'])"
   ],
   "id": "7c7f743cce78fb49",
   "outputs": [
    {
     "name": "stdout",
     "output_type": "stream",
     "text": [
      "LLaMA's response:\n",
      " تحية طيبة وبعد:\n",
      "\n",
      "يرد إدارتنا لنظم المعلومات المحترمة بالشكر الجزيل على التهديات التي وجهتمها إلينا. ننتهج بفخر دوره الترريبية الأسبوع القادم على نظام المراسلات، ويقضي على أنظارنا أن هذا الحدث سيُقام في ظل إدارة الموارد البشرية الاطيب التي تحمل هدفاً واضحاً هو تعزيز أهلاك ومهارة موظفينا.\n",
      "\n",
      "نحن نعمل جاهدين لضمان نجاح الدورة ووصولها إلى أعلى مستوى من الكفاءة والفعالية. ونحن نتطلع إلى أن تقوم إدارة الموارد البشرية الاطيب بمنحنا الدعم الكافي والتعاون اللازمين لإنجاز هذه المهمة.\n",
      "\n",
      "شكراً لكم مرة أخرى على الثقة التي وجهتمها إلينا.\n",
      "\n",
      "إدارتنا لنظم المعلومات المحترمة.\n"
     ]
    }
   ],
   "execution_count": 16
  },
  {
   "metadata": {
    "ExecuteTime": {
     "end_time": "2025-06-09T07:15:54.793905Z",
     "start_time": "2025-06-09T07:15:51.432306Z"
    }
   },
   "cell_type": "code",
   "source": [
    "prompt = (\n",
    "    \"استخرج اهم المعلومات من النص التالي: \"\n",
    "  \"السادة إدارة نظم المعلومات المحترمين  تحية طيبة وبعد ... تهديكم ادارة الموارد البشرية اطيب الامنيات ونطلبكم منكم الإعداد لدورة ترريبية الاسبوع القادم على نطام المراسلات\"\n",
    "    \"إدارة الموارد البشرية\"\n",
    "    \"باللغة العربية فقط\"\n",
    "\n",
    ")\n",
    "\n",
    "# Query LLaMA\n",
    "response = ollama.chat(model='llama3', messages=[\n",
    "    {\"role\": \"system\", \"content\": \"أنت مساعد ذكي يجيب فقط باللغة العربية، لا تستخدم الإنجليزية أبداً.\"},\n",
    "    {\"role\": \"user\", \"content\": prompt}\n",
    "])\n",
    "print(\"LLaMA's response:\\n\", response['message']['content'])"
   ],
   "id": "dc4853f53b08fbfa",
   "outputs": [
    {
     "name": "stdout",
     "output_type": "stream",
     "text": [
      "LLaMA's response:\n",
      " الأهم المعلومات في النص هي:\n",
      "\n",
      "* إدارة نظم المعلومات المحترمين\n",
      "* التحية الطيبة والتهديدات لادارة الموارد البشرية\n",
      "* طلب الإعداد لدورة ترريبية الاسبوع القادم على نطام المراسلات إدارة الموارد البhrة باللغة العربية فقط\n"
     ]
    }
   ],
   "execution_count": 15
  }
 ],
 "metadata": {
  "kernelspec": {
   "display_name": "Python 3",
   "language": "python",
   "name": "python3"
  },
  "language_info": {
   "codemirror_mode": {
    "name": "ipython",
    "version": 2
   },
   "file_extension": ".py",
   "mimetype": "text/x-python",
   "name": "python",
   "nbconvert_exporter": "python",
   "pygments_lexer": "ipython2",
   "version": "2.7.6"
  }
 },
 "nbformat": 4,
 "nbformat_minor": 5
}
